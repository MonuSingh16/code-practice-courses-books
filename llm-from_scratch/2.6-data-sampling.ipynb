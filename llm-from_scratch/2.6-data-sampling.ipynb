{
 "cells": [
  {
   "cell_type": "code",
   "execution_count": null,
   "metadata": {},
   "outputs": [],
   "source": [
    "# Data Sampling with Sliding Window\n",
    "\n",
    "# To prepare input-target pairs for LLM Training\n",
    "# Given a sample text, a subsample that serve as input,\n",
    "# LLM's prediction task during the  next word is considered\n",
    "# as target, while the words beyond target are masked"
   ]
  }
 ],
 "metadata": {
  "kernelspec": {
   "display_name": ".venv-books-courses",
   "language": "python",
   "name": "python3"
  },
  "language_info": {
   "name": "python",
   "version": "3.11.6"
  }
 },
 "nbformat": 4,
 "nbformat_minor": 2
}
