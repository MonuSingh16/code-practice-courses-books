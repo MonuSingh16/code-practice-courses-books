{
 "cells": [
  {
   "cell_type": "code",
   "execution_count": null,
   "metadata": {},
   "outputs": [],
   "source": [
    "# Data Sampling with Sliding Window\n",
    "\n",
    "# To prepare input-target pairs for LLM Training\n",
    "# Given a sample text, a subsample that serve as input,\n",
    "# LLM's prediction task during the training is to predict the next word \n",
    "# During training the words beyond target are masked\n",
    "\n"
   ]
  }
 ],
 "metadata": {
  "kernelspec": {
   "display_name": ".venv-books-courses",
   "language": "python",
   "name": "python3"
  },
  "language_info": {
   "name": "python",
   "version": "3.11.6"
  }
 },
 "nbformat": 4,
 "nbformat_minor": 2
}
