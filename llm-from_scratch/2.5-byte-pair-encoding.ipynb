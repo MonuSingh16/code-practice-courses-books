{
 "cells": [
  {
   "cell_type": "code",
   "execution_count": 2,
   "metadata": {},
   "outputs": [
    {
     "name": "stdout",
     "output_type": "stream",
     "text": [
      "tiktoken version: 0.9.0\n"
     ]
    }
   ],
   "source": [
    "# BPE - implemented in rust via tiktoken\n",
    "\n",
    "import tiktoken\n",
    "print(\"tiktoken version:\",  tiktoken.__version__)"
   ]
  },
  {
   "cell_type": "code",
   "execution_count": 3,
   "metadata": {},
   "outputs": [
    {
     "name": "stdout",
     "output_type": "stream",
     "text": [
      "[15496, 11, 466, 345, 588, 8887, 30, 220, 50256, 554, 262, 4252, 18250, 8812, 2114, 1659, 617, 34680, 27271, 13]\n",
      "Hello, do you like tea? <|endoftext|> In the sunlit terracesof someunknownPlace.\n",
      "[33901, 86, 343, 86, 220, 959]\n",
      "Akwirw ier\n"
     ]
    }
   ],
   "source": [
    "tokenizer = tiktoken.get_encoding(\"gpt2\") # to get the encoding of gpt2\n",
    "\n",
    "text = (\n",
    "    \"Hello, do you like tea? <|endoftext|> In the sunlit terraces\"\n",
    "     \"of someunknownPlace.\"\n",
    ")\n",
    "integers = tokenizer.encode(text, allowed_special={\"<|endoftext|>\"}) \n",
    "# <|endoftext|> is assigned larger token id, \n",
    "# Q1 How some of the unknown words are also enoded and decoded by BPE. ?\n",
    "\n",
    "# It can handle unfamiliar wrods that are not in vocabulary, by\n",
    "# breaking it down in subwords or even characters.\n",
    "# It frequnetly merges frequently occuring character into subwwords \n",
    "# and subwords to words the merges happens based on the frequency cutoff\n",
    "print(integers)\n",
    "\n",
    "strings = tokenizer.decode(integers)\n",
    "print(strings)\n",
    "\n",
    "## Exercise 2.1 - Byte pair encoding of unknown words\n",
    "unk_word = \"Akwirw ier\"\n",
    "unk_word_integer = tokenizer.encode(unk_word)\n",
    "print(unk_word_integer)\n",
    "\n",
    "unk_word_string = tokenizer.decode(unk_word_integer)\n",
    "\n",
    "print(unk_word_string)"
   ]
  }
 ],
 "metadata": {
  "kernelspec": {
   "display_name": ".venv",
   "language": "python",
   "name": "python3"
  },
  "language_info": {
   "codemirror_mode": {
    "name": "ipython",
    "version": 3
   },
   "file_extension": ".py",
   "mimetype": "text/x-python",
   "name": "python",
   "nbconvert_exporter": "python",
   "pygments_lexer": "ipython3",
   "version": "3.12.0"
  }
 },
 "nbformat": 4,
 "nbformat_minor": 2
}
